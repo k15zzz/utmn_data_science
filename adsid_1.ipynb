{
  "nbformat": 4,
  "nbformat_minor": 0,
  "metadata": {
    "colab": {
      "provenance": []
    },
    "kernelspec": {
      "name": "python3",
      "display_name": "Python 3"
    },
    "language_info": {
      "name": "python"
    }
  },
  "cells": [
    {
      "cell_type": "markdown",
      "source": [
        "# Разведочный анализ данных(часть 1)\n",
        "*Коптев Данил*"
      ],
      "metadata": {
        "id": "UBnhdXBtSIqh"
      }
    },
    {
      "cell_type": "markdown",
      "source": [
        "LotFrontage, ScreenPorch, BsmtFullBath"
      ],
      "metadata": {
        "id": "IXB2Q4kpUx7f"
      }
    },
    {
      "cell_type": "markdown",
      "source": [
        "**Подключение библиотек**"
      ],
      "metadata": {
        "id": "46DjlI5CSAqT"
      }
    },
    {
      "cell_type": "code",
      "execution_count": 56,
      "metadata": {
        "id": "3bU-n1iAI-M5"
      },
      "outputs": [],
      "source": [
        "import pandas as pd\n",
        "import numpy as np\n",
        "import matplotlib.pyplot as plt\n",
        "import scipy.stats as sts\n",
        "import seaborn as sns"
      ]
    },
    {
      "cell_type": "markdown",
      "source": [
        "**Чтение файла**"
      ],
      "metadata": {
        "id": "twg-bVNXS_MW"
      }
    },
    {
      "cell_type": "code",
      "source": [
        "data = pd.read_csv('house_prices.csv')"
      ],
      "metadata": {
        "id": "eN8Ek5nDTHeZ"
      },
      "execution_count": 57,
      "outputs": []
    },
    {
      "cell_type": "markdown",
      "source": [
        "Выбираем нужные данные по заданию\n",
        "\n",
        "1.   LotFrontage - линейные футы улицы, связанной с собственностью \n",
        "2.   ScreenPorch - площадь веранды в квадратных метрах\n",
        "1.   BsmtFullBath - полноценные санузлы на цокольном этаже\n",
        "\n",
        "\n",
        "\n",
        "\n",
        "\n"
      ],
      "metadata": {
        "id": "LACQmmRWT3SO"
      }
    },
    {
      "cell_type": "code",
      "source": [
        "data = data[['LotFrontage', 'ScreenPorch', 'BsmtFullBath']]"
      ],
      "metadata": {
        "id": "ArDlQzh4U1oP"
      },
      "execution_count": 58,
      "outputs": []
    },
    {
      "cell_type": "markdown",
      "source": [
        "**Вывод описательных статистик для количественных переменных**"
      ],
      "metadata": {
        "id": "nVj7k5M9WxKi"
      }
    },
    {
      "cell_type": "code",
      "source": [
        "data.describe()"
      ],
      "metadata": {
        "colab": {
          "base_uri": "https://localhost:8080/",
          "height": 300
        },
        "id": "2W_ouTCvU8Gk",
        "outputId": "b3c25ab8-2f97-472b-87d7-6189d2d22b2d"
      },
      "execution_count": 59,
      "outputs": [
        {
          "output_type": "execute_result",
          "data": {
            "text/plain": [
              "       LotFrontage  ScreenPorch  BsmtFullBath\n",
              "count  1201.000000  1460.000000   1460.000000\n",
              "mean     70.049958    15.060959      0.425342\n",
              "std      24.284752    55.757415      0.518911\n",
              "min      21.000000     0.000000      0.000000\n",
              "25%      59.000000     0.000000      0.000000\n",
              "50%      69.000000     0.000000      0.000000\n",
              "75%      80.000000     0.000000      1.000000\n",
              "max     313.000000   480.000000      3.000000"
            ],
            "text/html": [
              "\n",
              "  <div id=\"df-f9a52951-b82a-495b-a7dc-33f436f7b803\">\n",
              "    <div class=\"colab-df-container\">\n",
              "      <div>\n",
              "<style scoped>\n",
              "    .dataframe tbody tr th:only-of-type {\n",
              "        vertical-align: middle;\n",
              "    }\n",
              "\n",
              "    .dataframe tbody tr th {\n",
              "        vertical-align: top;\n",
              "    }\n",
              "\n",
              "    .dataframe thead th {\n",
              "        text-align: right;\n",
              "    }\n",
              "</style>\n",
              "<table border=\"1\" class=\"dataframe\">\n",
              "  <thead>\n",
              "    <tr style=\"text-align: right;\">\n",
              "      <th></th>\n",
              "      <th>LotFrontage</th>\n",
              "      <th>ScreenPorch</th>\n",
              "      <th>BsmtFullBath</th>\n",
              "    </tr>\n",
              "  </thead>\n",
              "  <tbody>\n",
              "    <tr>\n",
              "      <th>count</th>\n",
              "      <td>1201.000000</td>\n",
              "      <td>1460.000000</td>\n",
              "      <td>1460.000000</td>\n",
              "    </tr>\n",
              "    <tr>\n",
              "      <th>mean</th>\n",
              "      <td>70.049958</td>\n",
              "      <td>15.060959</td>\n",
              "      <td>0.425342</td>\n",
              "    </tr>\n",
              "    <tr>\n",
              "      <th>std</th>\n",
              "      <td>24.284752</td>\n",
              "      <td>55.757415</td>\n",
              "      <td>0.518911</td>\n",
              "    </tr>\n",
              "    <tr>\n",
              "      <th>min</th>\n",
              "      <td>21.000000</td>\n",
              "      <td>0.000000</td>\n",
              "      <td>0.000000</td>\n",
              "    </tr>\n",
              "    <tr>\n",
              "      <th>25%</th>\n",
              "      <td>59.000000</td>\n",
              "      <td>0.000000</td>\n",
              "      <td>0.000000</td>\n",
              "    </tr>\n",
              "    <tr>\n",
              "      <th>50%</th>\n",
              "      <td>69.000000</td>\n",
              "      <td>0.000000</td>\n",
              "      <td>0.000000</td>\n",
              "    </tr>\n",
              "    <tr>\n",
              "      <th>75%</th>\n",
              "      <td>80.000000</td>\n",
              "      <td>0.000000</td>\n",
              "      <td>1.000000</td>\n",
              "    </tr>\n",
              "    <tr>\n",
              "      <th>max</th>\n",
              "      <td>313.000000</td>\n",
              "      <td>480.000000</td>\n",
              "      <td>3.000000</td>\n",
              "    </tr>\n",
              "  </tbody>\n",
              "</table>\n",
              "</div>\n",
              "      <button class=\"colab-df-convert\" onclick=\"convertToInteractive('df-f9a52951-b82a-495b-a7dc-33f436f7b803')\"\n",
              "              title=\"Convert this dataframe to an interactive table.\"\n",
              "              style=\"display:none;\">\n",
              "        \n",
              "  <svg xmlns=\"http://www.w3.org/2000/svg\" height=\"24px\"viewBox=\"0 0 24 24\"\n",
              "       width=\"24px\">\n",
              "    <path d=\"M0 0h24v24H0V0z\" fill=\"none\"/>\n",
              "    <path d=\"M18.56 5.44l.94 2.06.94-2.06 2.06-.94-2.06-.94-.94-2.06-.94 2.06-2.06.94zm-11 1L8.5 8.5l.94-2.06 2.06-.94-2.06-.94L8.5 2.5l-.94 2.06-2.06.94zm10 10l.94 2.06.94-2.06 2.06-.94-2.06-.94-.94-2.06-.94 2.06-2.06.94z\"/><path d=\"M17.41 7.96l-1.37-1.37c-.4-.4-.92-.59-1.43-.59-.52 0-1.04.2-1.43.59L10.3 9.45l-7.72 7.72c-.78.78-.78 2.05 0 2.83L4 21.41c.39.39.9.59 1.41.59.51 0 1.02-.2 1.41-.59l7.78-7.78 2.81-2.81c.8-.78.8-2.07 0-2.86zM5.41 20L4 18.59l7.72-7.72 1.47 1.35L5.41 20z\"/>\n",
              "  </svg>\n",
              "      </button>\n",
              "      \n",
              "  <style>\n",
              "    .colab-df-container {\n",
              "      display:flex;\n",
              "      flex-wrap:wrap;\n",
              "      gap: 12px;\n",
              "    }\n",
              "\n",
              "    .colab-df-convert {\n",
              "      background-color: #E8F0FE;\n",
              "      border: none;\n",
              "      border-radius: 50%;\n",
              "      cursor: pointer;\n",
              "      display: none;\n",
              "      fill: #1967D2;\n",
              "      height: 32px;\n",
              "      padding: 0 0 0 0;\n",
              "      width: 32px;\n",
              "    }\n",
              "\n",
              "    .colab-df-convert:hover {\n",
              "      background-color: #E2EBFA;\n",
              "      box-shadow: 0px 1px 2px rgba(60, 64, 67, 0.3), 0px 1px 3px 1px rgba(60, 64, 67, 0.15);\n",
              "      fill: #174EA6;\n",
              "    }\n",
              "\n",
              "    [theme=dark] .colab-df-convert {\n",
              "      background-color: #3B4455;\n",
              "      fill: #D2E3FC;\n",
              "    }\n",
              "\n",
              "    [theme=dark] .colab-df-convert:hover {\n",
              "      background-color: #434B5C;\n",
              "      box-shadow: 0px 1px 3px 1px rgba(0, 0, 0, 0.15);\n",
              "      filter: drop-shadow(0px 1px 2px rgba(0, 0, 0, 0.3));\n",
              "      fill: #FFFFFF;\n",
              "    }\n",
              "  </style>\n",
              "\n",
              "      <script>\n",
              "        const buttonEl =\n",
              "          document.querySelector('#df-f9a52951-b82a-495b-a7dc-33f436f7b803 button.colab-df-convert');\n",
              "        buttonEl.style.display =\n",
              "          google.colab.kernel.accessAllowed ? 'block' : 'none';\n",
              "\n",
              "        async function convertToInteractive(key) {\n",
              "          const element = document.querySelector('#df-f9a52951-b82a-495b-a7dc-33f436f7b803');\n",
              "          const dataTable =\n",
              "            await google.colab.kernel.invokeFunction('convertToInteractive',\n",
              "                                                     [key], {});\n",
              "          if (!dataTable) return;\n",
              "\n",
              "          const docLinkHtml = 'Like what you see? Visit the ' +\n",
              "            '<a target=\"_blank\" href=https://colab.research.google.com/notebooks/data_table.ipynb>data table notebook</a>'\n",
              "            + ' to learn more about interactive tables.';\n",
              "          element.innerHTML = '';\n",
              "          dataTable['output_type'] = 'display_data';\n",
              "          await google.colab.output.renderOutput(dataTable, element);\n",
              "          const docLink = document.createElement('div');\n",
              "          docLink.innerHTML = docLinkHtml;\n",
              "          element.appendChild(docLink);\n",
              "        }\n",
              "      </script>\n",
              "    </div>\n",
              "  </div>\n",
              "  "
            ]
          },
          "metadata": {},
          "execution_count": 59
        }
      ]
    },
    {
      "cell_type": "markdown",
      "source": [
        "**Вывод значений выборочного коэффициента асимметрии для количественных переменных**"
      ],
      "metadata": {
        "id": "1bfk-ADdXId3"
      }
    },
    {
      "cell_type": "code",
      "source": [
        "data.skew()"
      ],
      "metadata": {
        "colab": {
          "base_uri": "https://localhost:8080/"
        },
        "id": "RDCoNJPUYC_P",
        "outputId": "f40f1b87-5974-453c-a3a9-de6e20793731"
      },
      "execution_count": 60,
      "outputs": [
        {
          "output_type": "execute_result",
          "data": {
            "text/plain": [
              "LotFrontage     2.163569\n",
              "ScreenPorch     4.122214\n",
              "BsmtFullBath    0.596067\n",
              "dtype: float64"
            ]
          },
          "metadata": {},
          "execution_count": 60
        }
      ]
    },
    {
      "cell_type": "markdown",
      "source": [
        "**Вывод значений выборочного коэффициента эксцесса для количественных переменных**"
      ],
      "metadata": {
        "id": "jOx5Xu7ZYXZ7"
      }
    },
    {
      "cell_type": "code",
      "source": [
        "data.kurtosis()"
      ],
      "metadata": {
        "colab": {
          "base_uri": "https://localhost:8080/"
        },
        "id": "Ktwxp6MJYa7G",
        "outputId": "96ddb5ce-2464-450d-a4d9-b9d8411e1d2f"
      },
      "execution_count": 61,
      "outputs": [
        {
          "output_type": "execute_result",
          "data": {
            "text/plain": [
              "LotFrontage     17.452867\n",
              "ScreenPorch     18.439068\n",
              "BsmtFullBath    -0.839098\n",
              "dtype: float64"
            ]
          },
          "metadata": {},
          "execution_count": 61
        }
      ]
    },
    {
      "cell_type": "markdown",
      "source": [
        "**Визуализирую распределения**"
      ],
      "metadata": {
        "id": "6yY-tFncZEpl"
      }
    },
    {
      "cell_type": "code",
      "source": [
        "plt.figure(figsize=(24,8))\n",
        "plt.subplot(1,3,1)\n",
        "\n",
        "data.LotFrontage.hist(bins=int(1+np.floor(np.log2(data['LotFrontage'].count()))), density=True)\n",
        "plt.title('Нормального распределение признака LotFrontage')\n",
        "plt.xlabel('LotFrontage')\n",
        "\n",
        "data.LotFrontage.hist(bins=int(1+np.floor(np.log2(data['ScreenPorch'].count()))), density=True)\n",
        "plt.title('Нормального распределение признака ScreenPorch')\n",
        "plt.xlabel('ScreenPorch')\n",
        "\n",
        "data.LotFrontage.hist(bins=int(1+np.floor(np.log2(data['BsmtFullBath'].count()))), density=True)\n",
        "plt.title('Нормального распределение признака BsmtFullBath')\n",
        "plt.xlabel('BsmtFullBath')"
      ],
      "metadata": {
        "colab": {
          "base_uri": "https://localhost:8080/",
          "height": 531
        },
        "id": "k8CkyIRzZH1l",
        "outputId": "d2d6a102-a8e2-4a76-8b04-85ea29ee7dac"
      },
      "execution_count": 62,
      "outputs": [
        {
          "output_type": "execute_result",
          "data": {
            "text/plain": [
              "Text(0.5, 0, 'BsmtFullBath')"
            ]
          },
          "metadata": {},
          "execution_count": 62
        },
        {
          "output_type": "display_data",
          "data": {
            "text/plain": [
              "<Figure size 1728x576 with 1 Axes>"
            ],
            "image/png": "[encoded data removed]"
          },
          "metadata": {
            "needs_background": "light"
          }
        }
      ]
    }
  ]
}