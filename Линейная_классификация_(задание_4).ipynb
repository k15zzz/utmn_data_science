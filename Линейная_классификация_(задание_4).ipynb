{
  "nbformat": 4,
  "nbformat_minor": 0,
  "metadata": {
    "colab": {
      "provenance": []
    },
    "kernelspec": {
      "name": "python3",
      "display_name": "Python 3"
    },
    "language_info": {
      "name": "python"
    }
  },
  "cells": [
    {
      "cell_type": "code",
      "execution_count": null,
      "metadata": {
        "id": "_gmtZIlR-Env"
      },
      "outputs": [],
      "source": [
        "from sklearn import datasets\n",
        "import numpy as np\n",
        "from sklearn.model_selection import train_test_split\n",
        "from sklearn.linear_model import SGDClassifier\n",
        "from sklearn.model_selection import ParameterGrid\n",
        "from sklearn.model_selection import GridSearchCV\n",
        "import time\n",
        "from sklearn.model_selection import RandomizedSearchCV"
      ]
    },
    {
      "cell_type": "markdown",
      "source": [
        "\n",
        "\n",
        "> п.2 - п.3\n",
        "\n"
      ],
      "metadata": {
        "id": "AArWTiL2FQOw"
      }
    },
    {
      "cell_type": "code",
      "source": [
        "iris = datasets.load_iris()\n",
        "print(iris.keys())"
      ],
      "metadata": {
        "colab": {
          "base_uri": "https://localhost:8080/"
        },
        "id": "pFrjczA0AvTy",
        "outputId": "ed8be692-96e6-4d09-e089-b4917a1f19a1"
      },
      "execution_count": null,
      "outputs": [
        {
          "output_type": "stream",
          "name": "stdout",
          "text": [
            "dict_keys(['data', 'target', 'frame', 'target_names', 'DESCR', 'feature_names', 'filename', 'data_module'])\n"
          ]
        }
      ]
    },
    {
      "cell_type": "markdown",
      "source": [
        "\n",
        "\n",
        "> п.4\n"
      ],
      "metadata": {
        "id": "cxNDbRs-FZpX"
      }
    },
    {
      "cell_type": "code",
      "source": [
        "print(iris['DESCR'])"
      ],
      "metadata": {
        "colab": {
          "base_uri": "https://localhost:8080/"
        },
        "id": "XLHUgafGBLLE",
        "outputId": "e782c6e5-7399-4901-af2a-1e9074091056"
      },
      "execution_count": null,
      "outputs": [
        {
          "output_type": "stream",
          "name": "stdout",
          "text": [
            ".. _iris_dataset:\n",
            "\n",
            "Iris plants dataset\n",
            "--------------------\n",
            "\n",
            "**Data Set Characteristics:**\n",
            "\n",
            "    :Number of Instances: 150 (50 in each of three classes)\n",
            "    :Number of Attributes: 4 numeric, predictive attributes and the class\n",
            "    :Attribute Information:\n",
            "        - sepal length in cm\n",
            "        - sepal width in cm\n",
            "        - petal length in cm\n",
            "        - petal width in cm\n",
            "        - class:\n",
            "                - Iris-Setosa\n",
            "                - Iris-Versicolour\n",
            "                - Iris-Virginica\n",
            "                \n",
            "    :Summary Statistics:\n",
            "\n",
            "    ============== ==== ==== ======= ===== ====================\n",
            "                    Min  Max   Mean    SD   Class Correlation\n",
            "    ============== ==== ==== ======= ===== ====================\n",
            "    sepal length:   4.3  7.9   5.84   0.83    0.7826\n",
            "    sepal width:    2.0  4.4   3.05   0.43   -0.4194\n",
            "    petal length:   1.0  6.9   3.76   1.76    0.9490  (high!)\n",
            "    petal width:    0.1  2.5   1.20   0.76    0.9565  (high!)\n",
            "    ============== ==== ==== ======= ===== ====================\n",
            "\n",
            "    :Missing Attribute Values: None\n",
            "    :Class Distribution: 33.3% for each of 3 classes.\n",
            "    :Creator: R.A. Fisher\n",
            "    :Donor: Michael Marshall (MARSHALL%PLU@io.arc.nasa.gov)\n",
            "    :Date: July, 1988\n",
            "\n",
            "The famous Iris database, first used by Sir R.A. Fisher. The dataset is taken\n",
            "from Fisher's paper. Note that it's the same as in R, but not as in the UCI\n",
            "Machine Learning Repository, which has two wrong data points.\n",
            "\n",
            "This is perhaps the best known database to be found in the\n",
            "pattern recognition literature.  Fisher's paper is a classic in the field and\n",
            "is referenced frequently to this day.  (See Duda & Hart, for example.)  The\n",
            "data set contains 3 classes of 50 instances each, where each class refers to a\n",
            "type of iris plant.  One class is linearly separable from the other 2; the\n",
            "latter are NOT linearly separable from each other.\n",
            "\n",
            ".. topic:: References\n",
            "\n",
            "   - Fisher, R.A. \"The use of multiple measurements in taxonomic problems\"\n",
            "     Annual Eugenics, 7, Part II, 179-188 (1936); also in \"Contributions to\n",
            "     Mathematical Statistics\" (John Wiley, NY, 1950).\n",
            "   - Duda, R.O., & Hart, P.E. (1973) Pattern Classification and Scene Analysis.\n",
            "     (Q327.D83) John Wiley & Sons.  ISBN 0-471-22361-1.  See page 218.\n",
            "   - Dasarathy, B.V. (1980) \"Nosing Around the Neighborhood: A New System\n",
            "     Structure and Classification Rule for Recognition in Partially Exposed\n",
            "     Environments\".  IEEE Transactions on Pattern Analysis and Machine\n",
            "     Intelligence, Vol. PAMI-2, No. 1, 67-71.\n",
            "   - Gates, G.W. (1972) \"The Reduced Nearest Neighbor Rule\".  IEEE Transactions\n",
            "     on Information Theory, May 1972, 431-433.\n",
            "   - See also: 1988 MLC Proceedings, 54-64.  Cheeseman et al\"s AUTOCLASS II\n",
            "     conceptual clustering system finds 3 classes in the data.\n",
            "   - Many, many more ...\n"
          ]
        }
      ]
    },
    {
      "cell_type": "markdown",
      "source": [
        "\n",
        "\n",
        "> п.5\n",
        "\n"
      ],
      "metadata": {
        "id": "p_SvkF8zFdrQ"
      }
    },
    {
      "cell_type": "markdown",
      "source": [
        "В наборе данных iris значения признаков и меток классов хранятся в следующих ключах:\n",
        "\n",
        "* data: содержит признаки для каждого образца.\n",
        "\n",
        "\n",
        "* target: содержит целевые метки классов для каждого образца."
      ],
      "metadata": {
        "id": "ECoB9jEACS-q"
      }
    },
    {
      "cell_type": "code",
      "source": [
        "X = iris.data\n",
        "print(X)\n",
        "y = iris.target\n",
        "print(y)"
      ],
      "metadata": {
        "colab": {
          "base_uri": "https://localhost:8080/"
        },
        "id": "P1RhnKh2B52B",
        "outputId": "1a3f4831-ce79-4112-c88f-c65cb91f83f9"
      },
      "execution_count": null,
      "outputs": [
        {
          "output_type": "stream",
          "name": "stdout",
          "text": [
            "[[5.1 3.5 1.4 0.2]\n",
            " [4.9 3.  1.4 0.2]\n",
            " [4.7 3.2 1.3 0.2]\n",
            " [4.6 3.1 1.5 0.2]\n",
            " [5.  3.6 1.4 0.2]\n",
            " [5.4 3.9 1.7 0.4]\n",
            " [4.6 3.4 1.4 0.3]\n",
            " [5.  3.4 1.5 0.2]\n",
            " [4.4 2.9 1.4 0.2]\n",
            " [4.9 3.1 1.5 0.1]\n",
            " [5.4 3.7 1.5 0.2]\n",
            " [4.8 3.4 1.6 0.2]\n",
            " [4.8 3.  1.4 0.1]\n",
            " [4.3 3.  1.1 0.1]\n",
            " [5.8 4.  1.2 0.2]\n",
            " [5.7 4.4 1.5 0.4]\n",
            " [5.4 3.9 1.3 0.4]\n",
            " [5.1 3.5 1.4 0.3]\n",
            " [5.7 3.8 1.7 0.3]\n",
            " [5.1 3.8 1.5 0.3]\n",
            " [5.4 3.4 1.7 0.2]\n",
            " [5.1 3.7 1.5 0.4]\n",
            " [4.6 3.6 1.  0.2]\n",
            " [5.1 3.3 1.7 0.5]\n",
            " [4.8 3.4 1.9 0.2]\n",
            " [5.  3.  1.6 0.2]\n",
            " [5.  3.4 1.6 0.4]\n",
            " [5.2 3.5 1.5 0.2]\n",
            " [5.2 3.4 1.4 0.2]\n",
            " [4.7 3.2 1.6 0.2]\n",
            " [4.8 3.1 1.6 0.2]\n",
            " [5.4 3.4 1.5 0.4]\n",
            " [5.2 4.1 1.5 0.1]\n",
            " [5.5 4.2 1.4 0.2]\n",
            " [4.9 3.1 1.5 0.2]\n",
            " [5.  3.2 1.2 0.2]\n",
            " [5.5 3.5 1.3 0.2]\n",
            " [4.9 3.6 1.4 0.1]\n",
            " [4.4 3.  1.3 0.2]\n",
            " [5.1 3.4 1.5 0.2]\n",
            " [5.  3.5 1.3 0.3]\n",
            " [4.5 2.3 1.3 0.3]\n",
            " [4.4 3.2 1.3 0.2]\n",
            " [5.  3.5 1.6 0.6]\n",
            " [5.1 3.8 1.9 0.4]\n",
            " [4.8 3.  1.4 0.3]\n",
            " [5.1 3.8 1.6 0.2]\n",
            " [4.6 3.2 1.4 0.2]\n",
            " [5.3 3.7 1.5 0.2]\n",
            " [5.  3.3 1.4 0.2]\n",
            " [7.  3.2 4.7 1.4]\n",
            " [6.4 3.2 4.5 1.5]\n",
            " [6.9 3.1 4.9 1.5]\n",
            " [5.5 2.3 4.  1.3]\n",
            " [6.5 2.8 4.6 1.5]\n",
            " [5.7 2.8 4.5 1.3]\n",
            " [6.3 3.3 4.7 1.6]\n",
            " [4.9 2.4 3.3 1. ]\n",
            " [6.6 2.9 4.6 1.3]\n",
            " [5.2 2.7 3.9 1.4]\n",
            " [5.  2.  3.5 1. ]\n",
            " [5.9 3.  4.2 1.5]\n",
            " [6.  2.2 4.  1. ]\n",
            " [6.1 2.9 4.7 1.4]\n",
            " [5.6 2.9 3.6 1.3]\n",
            " [6.7 3.1 4.4 1.4]\n",
            " [5.6 3.  4.5 1.5]\n",
            " [5.8 2.7 4.1 1. ]\n",
            " [6.2 2.2 4.5 1.5]\n",
            " [5.6 2.5 3.9 1.1]\n",
            " [5.9 3.2 4.8 1.8]\n",
            " [6.1 2.8 4.  1.3]\n",
            " [6.3 2.5 4.9 1.5]\n",
            " [6.1 2.8 4.7 1.2]\n",
            " [6.4 2.9 4.3 1.3]\n",
            " [6.6 3.  4.4 1.4]\n",
            " [6.8 2.8 4.8 1.4]\n",
            " [6.7 3.  5.  1.7]\n",
            " [6.  2.9 4.5 1.5]\n",
            " [5.7 2.6 3.5 1. ]\n",
            " [5.5 2.4 3.8 1.1]\n",
            " [5.5 2.4 3.7 1. ]\n",
            " [5.8 2.7 3.9 1.2]\n",
            " [6.  2.7 5.1 1.6]\n",
            " [5.4 3.  4.5 1.5]\n",
            " [6.  3.4 4.5 1.6]\n",
            " [6.7 3.1 4.7 1.5]\n",
            " [6.3 2.3 4.4 1.3]\n",
            " [5.6 3.  4.1 1.3]\n",
            " [5.5 2.5 4.  1.3]\n",
            " [5.5 2.6 4.4 1.2]\n",
            " [6.1 3.  4.6 1.4]\n",
            " [5.8 2.6 4.  1.2]\n",
            " [5.  2.3 3.3 1. ]\n",
            " [5.6 2.7 4.2 1.3]\n",
            " [5.7 3.  4.2 1.2]\n",
            " [5.7 2.9 4.2 1.3]\n",
            " [6.2 2.9 4.3 1.3]\n",
            " [5.1 2.5 3.  1.1]\n",
            " [5.7 2.8 4.1 1.3]\n",
            " [6.3 3.3 6.  2.5]\n",
            " [5.8 2.7 5.1 1.9]\n",
            " [7.1 3.  5.9 2.1]\n",
            " [6.3 2.9 5.6 1.8]\n",
            " [6.5 3.  5.8 2.2]\n",
            " [7.6 3.  6.6 2.1]\n",
            " [4.9 2.5 4.5 1.7]\n",
            " [7.3 2.9 6.3 1.8]\n",
            " [6.7 2.5 5.8 1.8]\n",
            " [7.2 3.6 6.1 2.5]\n",
            " [6.5 3.2 5.1 2. ]\n",
            " [6.4 2.7 5.3 1.9]\n",
            " [6.8 3.  5.5 2.1]\n",
            " [5.7 2.5 5.  2. ]\n",
            " [5.8 2.8 5.1 2.4]\n",
            " [6.4 3.2 5.3 2.3]\n",
            " [6.5 3.  5.5 1.8]\n",
            " [7.7 3.8 6.7 2.2]\n",
            " [7.7 2.6 6.9 2.3]\n",
            " [6.  2.2 5.  1.5]\n",
            " [6.9 3.2 5.7 2.3]\n",
            " [5.6 2.8 4.9 2. ]\n",
            " [7.7 2.8 6.7 2. ]\n",
            " [6.3 2.7 4.9 1.8]\n",
            " [6.7 3.3 5.7 2.1]\n",
            " [7.2 3.2 6.  1.8]\n",
            " [6.2 2.8 4.8 1.8]\n",
            " [6.1 3.  4.9 1.8]\n",
            " [6.4 2.8 5.6 2.1]\n",
            " [7.2 3.  5.8 1.6]\n",
            " [7.4 2.8 6.1 1.9]\n",
            " [7.9 3.8 6.4 2. ]\n",
            " [6.4 2.8 5.6 2.2]\n",
            " [6.3 2.8 5.1 1.5]\n",
            " [6.1 2.6 5.6 1.4]\n",
            " [7.7 3.  6.1 2.3]\n",
            " [6.3 3.4 5.6 2.4]\n",
            " [6.4 3.1 5.5 1.8]\n",
            " [6.  3.  4.8 1.8]\n",
            " [6.9 3.1 5.4 2.1]\n",
            " [6.7 3.1 5.6 2.4]\n",
            " [6.9 3.1 5.1 2.3]\n",
            " [5.8 2.7 5.1 1.9]\n",
            " [6.8 3.2 5.9 2.3]\n",
            " [6.7 3.3 5.7 2.5]\n",
            " [6.7 3.  5.2 2.3]\n",
            " [6.3 2.5 5.  1.9]\n",
            " [6.5 3.  5.2 2. ]\n",
            " [6.2 3.4 5.4 2.3]\n",
            " [5.9 3.  5.1 1.8]]\n",
            "[0 0 0 0 0 0 0 0 0 0 0 0 0 0 0 0 0 0 0 0 0 0 0 0 0 0 0 0 0 0 0 0 0 0 0 0 0\n",
            " 0 0 0 0 0 0 0 0 0 0 0 0 0 1 1 1 1 1 1 1 1 1 1 1 1 1 1 1 1 1 1 1 1 1 1 1 1\n",
            " 1 1 1 1 1 1 1 1 1 1 1 1 1 1 1 1 1 1 1 1 1 1 1 1 1 1 2 2 2 2 2 2 2 2 2 2 2\n",
            " 2 2 2 2 2 2 2 2 2 2 2 2 2 2 2 2 2 2 2 2 2 2 2 2 2 2 2 2 2 2 2 2 2 2 2 2 2\n",
            " 2 2]\n"
          ]
        }
      ]
    },
    {
      "cell_type": "markdown",
      "source": [
        "**X** содержит признаки для каждого образца, а **y** - целевые метки классов для каждого образца."
      ],
      "metadata": {
        "id": "5j5OWUn1CIDL"
      }
    },
    {
      "cell_type": "markdown",
      "source": [
        "\n",
        "\n",
        "> п.6\n",
        "\n"
      ],
      "metadata": {
        "id": "ptZ8sxdjFhDX"
      }
    },
    {
      "cell_type": "code",
      "source": [
        "X_train, X_test, y_train, y_test = train_test_split(X, y, test_size=0.3, random_state=42)\n",
        "print(\"Размеры обучающей выборки:\", X_train.shape, y_train.shape)\n",
        "print(\"Размеры тестовой выборки:\", X_test.shape, y_test.shape)"
      ],
      "metadata": {
        "colab": {
          "base_uri": "https://localhost:8080/"
        },
        "id": "oD6BnwonErLZ",
        "outputId": "e6f67cd9-50a2-4cd8-d41e-b76edc87063b"
      },
      "execution_count": null,
      "outputs": [
        {
          "output_type": "stream",
          "name": "stdout",
          "text": [
            "Размеры обучающей выборки: (105, 4) (105,)\n",
            "Размеры тестовой выборки: (45, 4) (45,)\n"
          ]
        }
      ]
    },
    {
      "cell_type": "markdown",
      "source": [
        "\n",
        "\n",
        "> п.7\n",
        "\n"
      ],
      "metadata": {
        "id": "woxLbk_6FlHy"
      }
    },
    {
      "cell_type": "code",
      "source": [
        "clf = SGDClassifier()\n",
        "print(clf.get_params())"
      ],
      "metadata": {
        "colab": {
          "base_uri": "https://localhost:8080/"
        },
        "id": "snlz-CNCFAe9",
        "outputId": "82d4c49a-0271-4e5d-8f81-4e217cb3c254"
      },
      "execution_count": null,
      "outputs": [
        {
          "output_type": "stream",
          "name": "stdout",
          "text": [
            "{'alpha': 0.0001, 'average': False, 'class_weight': None, 'early_stopping': False, 'epsilon': 0.1, 'eta0': 0.0, 'fit_intercept': True, 'l1_ratio': 0.15, 'learning_rate': 'optimal', 'loss': 'hinge', 'max_iter': 1000, 'n_iter_no_change': 5, 'n_jobs': None, 'penalty': 'l2', 'power_t': 0.5, 'random_state': None, 'shuffle': True, 'tol': 0.001, 'validation_fraction': 0.1, 'verbose': 0, 'warm_start': False}\n"
          ]
        }
      ]
    },
    {
      "cell_type": "markdown",
      "source": [
        "\n",
        "\n",
        "\n",
        "\n",
        "> п.8\n",
        "\n",
        "Создать  сетку  параметров,  включающую  4  вида  функции  потерь,  два  типа регуляризаторов, 5 значений коэффициента регуляризации от 0.0001 до 0.001, и число итераций от 5 до 10 с шагом 1.\n",
        "\n",
        "\n",
        "\n"
      ],
      "metadata": {
        "id": "8lvhxSF0FvsL"
      }
    },
    {
      "cell_type": "code",
      "source": [
        "param_grid = {\n",
        "    'loss': ['hinge', 'log_loss', 'modified_huber', 'squared_hinge'],\n",
        "    'penalty': ['l1', 'l2'],\n",
        "    'alpha': [0.0001, 0.0005, 0.0007, 0.0009, 0.001],\n",
        "    'n_iter_no_change': [5, 6, 7, 8, 9, 10]\n",
        "}\n",
        "\n",
        "grid_search = GridSearchCV(clf, param_grid, cv=5, scoring='accuracy')\n",
        "\n",
        "start_time = time.time()\n",
        "\n",
        "grid_search.fit(X_train, y_train)\n",
        "\n",
        "end_time = time.time()\n",
        "print(f\"Время выполнения: {end_time - start_time:.2f} секунд\")"
      ],
      "metadata": {
        "colab": {
          "base_uri": "https://localhost:8080/"
        },
        "id": "9oyfn44wNWJz",
        "outputId": "4d19bb9f-af93-4d31-a14a-fcff543eca84"
      },
      "execution_count": null,
      "outputs": [
        {
          "output_type": "stream",
          "name": "stdout",
          "text": [
            "Время выполнения: 5.46 секунд\n"
          ]
        }
      ]
    },
    {
      "cell_type": "code",
      "source": [
        "print(\"Лучший классификатор: \", grid_search.best_estimator_)\n",
        "print(\"Лучший набор параметров: \", grid_search.best_params_)\n",
        "print(f\"Оценка лучшего классификатора: {grid_search.best_score_:.3f}\")"
      ],
      "metadata": {
        "colab": {
          "base_uri": "https://localhost:8080/"
        },
        "id": "hCS-ccR6NrOP",
        "outputId": "03a5239c-e453-47fd-af23-70d08a58b51d"
      },
      "execution_count": null,
      "outputs": [
        {
          "output_type": "stream",
          "name": "stdout",
          "text": [
            "Лучший классификатор:  SGDClassifier(alpha=0.0005, loss='log_loss', n_iter_no_change=8, penalty='l1')\n",
            "Лучший набор параметров:  {'alpha': 0.0005, 'loss': 'log_loss', 'n_iter_no_change': 8, 'penalty': 'l1'}\n",
            "Оценка лучшего классификатора: 0.971\n"
          ]
        }
      ]
    },
    {
      "cell_type": "code",
      "source": [
        "results = grid_search.cv_results_\n",
        "last_10_scores = results['mean_test_score'][-10:]\n",
        "print(\"Оценки алгоритма по последним 10 наборам параметров\", last_10_scores)"
      ],
      "metadata": {
        "colab": {
          "base_uri": "https://localhost:8080/"
        },
        "id": "d2jSzE6SOK7Y",
        "outputId": "bf8bcb89-6f99-4b8d-85a6-537ae8a77b93"
      },
      "execution_count": null,
      "outputs": [
        {
          "output_type": "stream",
          "name": "stdout",
          "text": [
            "Оценки алгоритма по последним 10 наборам параметров [0.93333333 0.86666667 0.95238095 0.85714286 0.93333333 0.82857143\n",
            " 0.95238095 0.73333333 0.95238095 0.96190476]\n"
          ]
        }
      ]
    },
    {
      "cell_type": "markdown",
      "source": [
        "Из результатов видно, что лучший классификатор достиг точности 0.971 на обучающей выборке, что является довольно высоким значением. Набор лучших параметров включает значение коэффициента регуляризации alpha=0.0005, функцию потерь log_loss, показатель остановки при отсутствии улучшения n_iter_no_change=8 и тип регуляризации L1.\n",
        "\n",
        "Оценки алгоритма по последним 10 наборам параметров показывают, что качество классификации сильно колеблется, с оценками в диапазоне от 0.733 до 0.961. Это может быть связано с тем, что на некоторых комбинациях параметров классификатор плохо справляется с задачей.\n",
        "\n",
        "\n",
        "**Параметры функции потерь и регуляризатора:** в данном случае, регуляризатор \"l1\" оказался более эффективным, чем \"l2\".\n",
        "\n",
        "**Коэффициент регуляризации:** в данном случае, наилучшие результаты были достигнуты при коэффициенте 0.0005, что может указывать на то, что данные были достаточно сложными для модели и необходимо было использовать сильную регуляризацию.\n",
        "\n"
      ],
      "metadata": {
        "id": "Veos-MzGtl-C"
      }
    },
    {
      "cell_type": "code",
      "source": [
        "param_distributions = {\n",
        "    'loss': ['hinge', 'log_loss', 'modified_huber', 'squared_hinge'],\n",
        "    'penalty': ['l1', 'l2'],\n",
        "    'alpha': [0.0001, 0.0005, 0.0007, 0.0009, 0.001],\n",
        "    'n_iter_no_change': [5, 6, 7, 8, 9, 10]\n",
        "}\n",
        "\n",
        "random_search = RandomizedSearchCV(clf, param_distributions, n_iter=50, cv=5, scoring='accuracy', random_state=42)\n",
        "\n",
        "start_time = time.time()\n",
        "\n",
        "random_search.fit(X_train, y_train)\n",
        "\n",
        "end_time = time.time()\n",
        "print(f\"Время выполнения: {end_time - start_time:.2f} секунд\")\n",
        "\n",
        "print(\"Лучший классификатор: \", random_search.best_estimator_)\n",
        "print(\"Лучший набор параметров: \", random_search.best_params_)\n",
        "print(f\"Оценка лучшего классификатора: {random_search.best_score_:.3f}\")\n",
        "\n",
        "results = random_search.cv_results_\n",
        "last_10_scores = results['mean_test_score'][-10:]\n",
        "print(\"Оценки алгоритма по последним 10 наборам параметров\", last_10_scores)"
      ],
      "metadata": {
        "colab": {
          "base_uri": "https://localhost:8080/"
        },
        "id": "6W56Zd3gz31H",
        "outputId": "75f3eff5-5177-4422-affc-6eae06f98b83"
      },
      "execution_count": null,
      "outputs": [
        {
          "output_type": "stream",
          "name": "stdout",
          "text": [
            "Время выполнения: 1.62 секунд\n",
            "Лучший классификатор:  SGDClassifier(alpha=0.0007, n_iter_no_change=9, penalty='l1')\n",
            "Лучший набор параметров:  {'penalty': 'l1', 'n_iter_no_change': 9, 'loss': 'hinge', 'alpha': 0.0007}\n",
            "Оценка лучшего классификатора: 0.962\n",
            "Оценки алгоритма по последним 10 наборам параметров [0.86666667 0.91428571 0.80952381 0.94285714 0.9047619  0.93333333\n",
            " 0.87619048 0.84761905 0.88571429 0.92380952]\n"
          ]
        }
      ]
    },
    {
      "cell_type": "markdown",
      "source": [
        "Различия в наборах параметров могут быть объяснены случайностью в выборе параметров при случайном поиске, тогда как GridSearchCV перебирает все комбинации параметров из заданных сеток.\n",
        "\n",
        "В результате, случайный поиск обычно работает быстрее, но может не дать наилучших результатов в сравнении с GridSearchCV.\n",
        "\n",
        "В данном случае, время выполнения для случайного поиска составляет 1.62 секунды, что быстрее, чем время выполнения для GridSearchCV, которое составляет 4.61 секунды. Это может быть важно при работе с большими объемами данных и большим количеством параметров. Однако, оценка лучшего классификатора, полученная с помощью GridSearchCV (0.971), выше, чем оценка, полученная с помощью случайного поиска (0.962).\n",
        "\n",
        "\n",
        "Оценки алгоритма по последним 10 наборам параметров для GridSearchCV и случайного поиска различаются. Это может указывать на различия в степени оптимизации параметров между двумя методами.\n",
        "\n",
        "**Рекомендация**:  использовать случайный поиск для поиска оптимальных параметров, когда необходимо работать с большими объемами данных или большим количеством параметров. Однако, если нужно найти наилучшую модель с высокой точностью, GridSearchCV может быть более эффективным, но будет требовать немного больше времени."
      ],
      "metadata": {
        "id": "4jfEprp641sS"
      }
    }
  ]
}